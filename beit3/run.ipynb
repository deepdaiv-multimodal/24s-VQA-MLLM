{
 "cells": [
  {
   "cell_type": "code",
   "execution_count": 1,
   "metadata": {},
   "outputs": [
    {
     "name": "stderr",
     "output_type": "stream",
     "text": [
      "c:\\Users\\guts4\\anaconda3\\envs\\deepdaiv\\lib\\site-packages\\tqdm\\auto.py:21: TqdmWarning: IProgress not found. Please update jupyter and ipywidgets. See https://ipywidgets.readthedocs.io/en/stable/user_install.html\n",
      "  from .autonotebook import tqdm as notebook_tqdm\n"
     ]
    }
   ],
   "source": [
    "import numpy as np\n",
    "import pandas as pd\n",
    "import operator\n",
    "import os\n",
    "import string\n",
    "import re\n",
    "import random\n",
    "import sys\n",
    "import platform\n",
    "import json\n",
    "import shutil\n",
    "\n",
    "import torch\n",
    "import torch.optim as optim\n",
    "import torch.nn as nn\n",
    "from torch.utils.data import Dataset, DataLoader\n",
    "\n",
    "from sklearn.model_selection import train_test_split\n",
    "\n",
    "from PIL import Image\n",
    "\n",
    "from transformers import XLMRobertaTokenizer\n",
    "\n",
    "from tqdm.auto import tqdm"
   ]
  },
  {
   "cell_type": "code",
   "execution_count": 3,
   "metadata": {},
   "outputs": [],
   "source": [
    "CFG = {\n",
    "    # 'EPOCHS': 30,\n",
    "    # 'LEARNING_RATE': 2e-5,\n",
    "    # 'BATCH_SIZE': 32,\n",
    "    'SEED': 42,\n",
    "    # 'MAX_LEN': 16,\n",
    "}"
   ]
  },
  {
   "cell_type": "code",
   "execution_count": 4,
   "metadata": {},
   "outputs": [],
   "source": [
    "def seed_everything(seed):\n",
    "    random.seed(seed)\n",
    "    os.environ['PYTHONHASHSEED'] = str(seed)\n",
    "    np.random.seed(seed)\n",
    "    torch.manual_seed(seed)\n",
    "    torch.cuda.manual_seed(seed)\n",
    "    torch.backends.cudnn.deterministic = True\n",
    "    torch.backends.cudnn.benchmark = True\n",
    "\n",
    "seed_everything(CFG['SEED']) # Seed 고정"
   ]
  },
  {
   "cell_type": "code",
   "execution_count": 2,
   "metadata": {},
   "outputs": [
    {
     "name": "stdout",
     "output_type": "stream",
     "text": [
      "not all images have caption annotations\n",
      "8998 8372 8372\n",
      "Write ./dataset\\vqa.train.jsonl with 8381 items !\n",
      "not all images have caption annotations\n",
      "40504 4784 4784\n",
      "Write ./dataset\\vqa.val.jsonl with 4797 items !\n",
      "Contains 4784 image and 4797 pairs for val set!\n",
      "Write ./dataset\\vqa.trainable_val.jsonl with 3796 items !\n",
      "Write ./dataset\\vqa.rest_val.jsonl with 1001 items !\n",
      "Write ./dataset\\vqa.test.jsonl with 4797 items !\n"
     ]
    }
   ],
   "source": [
    "from datasets import OKVQADataset\n",
    "from transformers import XLMRobertaTokenizer\n",
    "\n",
    "tokenizer = XLMRobertaTokenizer(\"./dataset/beit3.spm\")\n",
    "\n",
    "OKVQADataset.make_dataset_index(\n",
    "    data_path=\"./dataset\",\n",
    "    tokenizer=tokenizer,\n",
    "    annotation_data_path=\"./dataset/vqa\",\n",
    ")"
   ]
  },
  {
   "cell_type": "code",
   "execution_count": null,
   "metadata": {},
   "outputs": [],
   "source": [
    "python -m torch.distributed.launch --nproc_per_node=1 run_beit3_finetuning.py --model beit3_base_patch16_480 --input_size 480 --task vqav2 --batch_size 16 --layer_decay 1.0 --lr 3e-5 --update_freq 1 --randaug --epochs 10 --warmup_epochs 1 --drop_path 0.1 --sentencepiece_model C:/Users/guts4/unilm/beit3/dataset/beit3.spm --finetune C:/Users/guts4/unilm/beit3/dataset/beit3_base_patch16_224.pth --data_path C:/Users/guts4/unilm/beit3/dataset --output_dir C:/Users/guts4/unilm/beit3 --log_dir C:/Users/guts4/unilm/beit3/log --weight_decay 0.01 --seed 42 --save_ckpt_freq 5 --task_head_lr_weight 20 --opt_betas 0.9 0.98 --enable_deepspeed"
   ]
  },
  {
   "cell_type": "code",
   "execution_count": null,
   "metadata": {},
   "outputs": [],
   "source": [
    "python -m torch.distributed.launch --nproc_per_node=1 run_beit3_finetuning.py --model beit3_base_patch16_480 --input_size 480 --task vqav2 --batch_size 16 --sentencepiece_model C:/Users/guts4/unilm/beit3/dataset/beit3.spm --finetune C:/Users/guts4/unilm/beit3/dataset/beit3_base_patch16_224.pth --data_path C:/Users/guts4/unilm/beit3/dataset --output_dir C:/Users/guts4/unilm/beit3 --eval --dist_eval\n"
   ]
  },
  {
   "cell_type": "code",
   "execution_count": null,
   "metadata": {},
   "outputs": [],
   "source": [
    "torchrun --nproc_per_node=1 run_beit3_finetuning.py `\n",
    "     --model beit3_base_patch16_480 `\n",
    "     --input_size 480 `\n",
    "     --task vqav2 `\n",
    "     --batch_size 16 `\n",
    "     --layer_decay 1.0 `\n",
    "     --lr 3e-5 `\n",
    "     --update_freq 1 `\n",
    "     --randaug `\n",
    "     --epochs 10 `\n",
    "     --warmup_epochs 1 `\n",
    "     --drop_path 0.1 `\n",
    "     --sentencepiece_model C:/Users/guts4/unilm/beit3/dataset/beit3.spm `\n",
    "     --finetune C:/Users/guts4/unilm/beit3/dataset/beit3_base_patch16_224.pth `\n",
    "     --data_path C:/Users/guts4/unilm/beit3/dataset `\n",
    "     --output_dir C:/Users/guts4/unilm/beit3 `\n",
    "     --log_dir C:/Users/guts4/unilm/beit3/log `\n",
    "     --weight_decay 0.01 `\n",
    "     --seed 42 `\n",
    "     --save_ckpt_freq 5 `\n",
    "     --task_head_lr_weight 20 `\n",
    "     --opt_betas 0.9 0.98 `\n",
    "     --enable_deepspeed\n"
   ]
  },
  {
   "cell_type": "code",
   "execution_count": null,
   "metadata": {},
   "outputs": [],
   "source": [
    "python -m torch.distributed.launch --nproc_per_node=1 run_beit3_finetuning.py --model beit3_base_patch16_480 --input_size 480 --sentencepiece_model C:/Users/guts4/unilm/beit3/dataset/beit3.spm --task vqav2 \\\n",
    "        --batch_size 8 \\\n",
    "        --layer_decay 1.0 \\\n",
    "        --lr 3e-5 \\\n",
    "        --update_freq 1 \\\n",
    "        --randaug \\\n",
    "        --epochs 10 \\\n",
    "        --warmup_epochs 1 \\\n",
    "        --drop_path 0.1 \\\n",
    "        --sentencepiece_model C:/Users/guts4/unilm/beit3/dataset/beit3.spm \\\n",
    "        --finetune C:/Users/guts4/unilm/beit3/dataset/beit3_base_patch16_224.pth \\\n",
    "        --data_path C:/Users/guts4/unilm/beit3/dataset \\\n",
    "        --output_dir C:/Users/guts4/unilm/beit3 \\\n",
    "        --log_dir C:/Users/guts4/unilm/beit3/log \\\n",
    "        --weight_decay 0.01 \\\n",
    "        --seed 42 \\\n",
    "        --save_ckpt_freq 5 \\\n",
    "        --task_head_lr_weight 20 \\\n",
    "        --opt_betas 0.9 0.98 \\\n",
    "        --enable_deepspeed"
   ]
  }
 ],
 "metadata": {
  "kernelspec": {
   "display_name": "deepdaiv",
   "language": "python",
   "name": "python3"
  },
  "language_info": {
   "codemirror_mode": {
    "name": "ipython",
    "version": 3
   },
   "file_extension": ".py",
   "mimetype": "text/x-python",
   "name": "python",
   "nbconvert_exporter": "python",
   "pygments_lexer": "ipython3",
   "version": "3.8.0"
  }
 },
 "nbformat": 4,
 "nbformat_minor": 2
}
